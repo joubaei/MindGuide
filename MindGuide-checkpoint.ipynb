{
 "cells": [
  {
   "cell_type": "code",
   "execution_count": 6,
   "id": "8c691d99",
   "metadata": {},
   "outputs": [
    {
     "name": "stdout",
     "output_type": "stream",
     "text": [
      "                      precision    recall  f1-score   support\n",
      "\n",
      "                ADHD       1.00      1.00      1.00        21\n",
      "                 ASD       1.00      1.00      1.00        16\n",
      "          Loneliness       1.00      1.00      1.00        11\n",
      "                 MDD       1.00      1.00      1.00        16\n",
      "                 OCD       1.00      1.00      1.00         6\n",
      "                 PDD       1.00      1.00      1.00        11\n",
      "                PTSD       1.00      1.00      1.00         6\n",
      "            anexiety       1.00      1.00      1.00        10\n",
      "             bipolar       1.00      1.00      1.00         5\n",
      "     eating disorder       1.00      1.00      1.00        15\n",
      "psychotic deprission       1.00      1.00      1.00         7\n",
      "   sleeping disorder       1.00      1.00      1.00         4\n",
      "\n",
      "            accuracy                           1.00       128\n",
      "           macro avg       1.00      1.00      1.00       128\n",
      "        weighted avg       1.00      1.00      1.00       128\n",
      "\n"
     ]
    },
    {
     "data": {
      "text/plain": [
       "['random_forest_model.pkl']"
      ]
     },
     "execution_count": 6,
     "metadata": {},
     "output_type": "execute_result"
    }
   ],
   "source": [
    "import pandas as pd\n",
    "import pandas as pd\n",
    "from sklearn.model_selection import train_test_split\n",
    "from sklearn.preprocessing import StandardScaler, OneHotEncoder\n",
    "from sklearn.compose import ColumnTransformer\n",
    "from sklearn.pipeline import Pipeline\n",
    "from sklearn.ensemble import RandomForestClassifier\n",
    "from sklearn.metrics import classification_report\n",
    "import joblib\n",
    "\n",
    "\n",
    "# Load the dataset\n",
    "data = pd.read_excel(\"C:\\\\Users\\pc\\OneDrive\\Desktop\\Mental_disorder_symptoms_Final_Dataset.xlsx\")\n",
    "\n",
    "# Split features and target variable\n",
    "X = data.drop(columns=[\"Disorder\"])\n",
    "y = data[\"Disorder\"]\n",
    "\n",
    "# Define the model\n",
    "Random_forest_model = RandomForestClassifier()\n",
    "\n",
    "# Split data into train and test sets\n",
    "X_train, X_test, y_train, y_test = train_test_split( X,y ,test_size=0.2, random_state=42)\n",
    "\n",
    "# Train the model\n",
    "Random_forest_model.fit(X_train, y_train)\n",
    "\n",
    "# Predictions\n",
    "y_pred = Random_forest_model.predict(X_test)\n",
    "\n",
    "# Evaluation\n",
    "print(classification_report(y_test, y_pred, zero_division=1))\n",
    "\n",
    "joblib.dump(Random_forest_model, 'random_forest_model.pkl')\n"
   ]
  },
  {
   "cell_type": "code",
   "execution_count": 2,
   "id": "195d7cbb",
   "metadata": {},
   "outputs": [
    {
     "name": "stdout",
     "output_type": "stream",
     "text": [
      "1.4.2\n"
     ]
    }
   ],
   "source": [
    "import sklearn\n",
    "print(sklearn.__version__)\n"
   ]
  },
  {
   "cell_type": "code",
   "execution_count": null,
   "id": "9278f1be",
   "metadata": {},
   "outputs": [],
   "source": []
  }
 ],
 "metadata": {
  "kernelspec": {
   "display_name": "Python 3 (ipykernel)",
   "language": "python",
   "name": "python3"
  },
  "language_info": {
   "codemirror_mode": {
    "name": "ipython",
    "version": 3
   },
   "file_extension": ".py",
   "mimetype": "text/x-python",
   "name": "python",
   "nbconvert_exporter": "python",
   "pygments_lexer": "ipython3",
   "version": "3.11.5"
  }
 },
 "nbformat": 4,
 "nbformat_minor": 5
}
